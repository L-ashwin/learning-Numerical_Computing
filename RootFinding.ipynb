{
 "cells": [
  {
   "cell_type": "markdown",
   "metadata": {},
   "source": [
    "# Root Finding Methods"
   ]
  },
  {
   "cell_type": "markdown",
   "metadata": {},
   "source": [
    "### Fixed-Point Iteration \n",
    "Simple iterative method which converges to root under special circumstances.  \n",
    "We want to find the soltion for F(x) = 0; if this equation can be written in the form x = G(x), then we can hope to improve the guess $x_k$ by simple recurrence relation,\n",
    "$$x_{k+1} = G(x_k)$$\n",
    "Starting from some initial guess $x_0$ we can use above equation to calculate successive approximations $x_1, x_2,...$ until sequence converges to satisfactory accuracy.  \n",
    "Condition on convergence: $|G'(x)| < 1$ for $[x_0,a]$ where a is root.  "
   ]
  },
  {
   "cell_type": "code",
   "execution_count": 1,
   "metadata": {},
   "outputs": [],
   "source": [
    "import numpy as np"
   ]
  },
  {
   "cell_type": "code",
   "execution_count": 2,
   "metadata": {},
   "outputs": [],
   "source": [
    "def fixedPoint(f, g, x0, eps = 0.00001):\n",
    "    \n",
    "    while(abs(f(x0)) > eps):\n",
    "        print('Current guess -> ', x0)\n",
    "        \n",
    "        dg_x0 = (g(x0 + eps) - g(x0)) / eps\n",
    "        if(abs(dg_x0) >1):\n",
    "            return \"Cound not Proceed as |g'(X)| > 1\"\n",
    "\n",
    "        x1 = g(x0)\n",
    "        if abs(x1 - x0) < eps:\n",
    "            return x1\n",
    "        else:\n",
    "            x0 = x1"
   ]
  },
  {
   "cell_type": "markdown",
   "metadata": {},
   "source": [
    "Example.  \n",
    "F(x) = $3x^2-x-5$  \n",
    "$ x = 3x^2-5$ where G(x) = $3x^2-5$  \n",
    "$ x = \\sqrt{\\frac{x+5}{3}}$ where G(x) = $\\sqrt{\\frac{x+5}{3}}$  "
   ]
  },
  {
   "cell_type": "code",
   "execution_count": 3,
   "metadata": {},
   "outputs": [],
   "source": [
    "def l(x):\n",
    "    return 3*x**2 - x -5\n",
    "def lg1(x):\n",
    "    return 3 * x**2 - 5\n",
    "def lg2(x):\n",
    "    return np.sqrt((x+5)/3)"
   ]
  },
  {
   "cell_type": "code",
   "execution_count": 4,
   "metadata": {},
   "outputs": [
    {
     "name": "stdout",
     "output_type": "stream",
     "text": [
      "Current guess ->  3\n"
     ]
    },
    {
     "data": {
      "text/plain": [
       "\"Cound not Proceed as |g'(X)| > 1\""
      ]
     },
     "execution_count": 4,
     "metadata": {},
     "output_type": "execute_result"
    }
   ],
   "source": [
    "fixedPoint(l, lg1, 3)"
   ]
  },
  {
   "cell_type": "code",
   "execution_count": 5,
   "metadata": {},
   "outputs": [
    {
     "name": "stdout",
     "output_type": "stream",
     "text": [
      "Current guess ->  3\n",
      "Current guess ->  1.632993161855452\n",
      "Current guess ->  1.4869424066245756\n",
      "Current guess ->  1.4704809198155293\n",
      "Current guess ->  1.46861396332455\n",
      "Current guess ->  1.4684020751965439\n",
      "Current guess ->  1.468378025259679\n"
     ]
    },
    {
     "data": {
      "text/plain": [
       "1.4683752954949538"
      ]
     },
     "execution_count": 5,
     "metadata": {},
     "output_type": "execute_result"
    }
   ],
   "source": [
    "fixedPoint(l, lg2, 3)"
   ]
  },
  {
   "cell_type": "markdown",
   "metadata": {},
   "source": [
    "## Bracketing Methods"
   ]
  },
  {
   "cell_type": "markdown",
   "metadata": {},
   "source": [
    "### Bisection\n",
    "If we can find two points a and b such that, $f(a)f(b) < 0$ and $f(x)$ is continuous over $[a,b]$ then there exists one root of $f(x)$ in $(a,b)$. In Bisection Method we go on narrowing this bracket in which root is present to half in each iteration.  \n",
    "We do that by finding the midpoint, m of the endpoints of bracket, which gives us two new brackets $[a,m]$ and $[m,b]$. Now we use the opposit sign condition on function values at endpoints to determine which of newly formed intervals contain the root and iterate this process of narrowing the bracket till desired convergence."
   ]
  },
  {
   "cell_type": "code",
   "execution_count": 6,
   "metadata": {},
   "outputs": [],
   "source": [
    "def bisection(f, a, b, eps=0.0001):\n",
    "    print(\"Finding root between -> \", a,\"and\", b)\n",
    "    f_a = f(a)\n",
    "    f_b = f(b) \n",
    "    \n",
    "    if f_a * f_b >= 0:\n",
    "        return \"Bracket is not valid\"\n",
    "    \n",
    "    mean = (a + b) / 2\n",
    "    f_mean = f(mean)\n",
    "\n",
    "    if abs(f_mean) < eps:\n",
    "        return mean\n",
    "    else:\n",
    "        if f_mean * f_a < 0:\n",
    "            return bisection(f, a, mean, eps)\n",
    "        elif f_mean * f_b < 0:\n",
    "            return bisection(f, mean, b, eps)"
   ]
  },
  {
   "cell_type": "markdown",
   "metadata": {},
   "source": [
    "### Regula Falsi\n",
    "In regula falsi method we start with two points $x_0$ and $x_1$ such that, $f(x_0)f(x_1) < 0$ so now if f(x) is continuous over $[x_0,x_1]$ then there must exists one root of $f(x)$ in $(x_0,x_1)$.  \n",
    "In this method we estimate the root $x_k$ by linear interpolation using the endpoints $[x_{k-2},x_{k-1}]$ and shrink the bracket using this estimate.  \n",
    "Inverse Interpolation for $x_2$ in between $[x_0,x_1]$ is given by,  \n",
    "\n",
    "$$x_2 = \\frac{y_1-y_2}{y_1-y_0}x_0 + \\frac{y_0-y_2}{y_0-y_1}x_1$$  \n",
    "\n",
    "as $x_2$ is supposed to be the root of the line, so putting $y_2 = 0$  \n",
    "\n",
    "$$x_2 = \\frac{y_1}{y_1-y_0}x_0 + \\frac{y_0}{y_0-y_1}x_1$$  \n",
    "\n",
    "Now we have two new brackets $[x_0,x_2]$ and $[x_2,x_1]$. Now we use the opposit sign condition to determine which of newly formed intervals contain the root and iterate this process of narrowing the bracket till desired convergence."
   ]
  },
  {
   "cell_type": "code",
   "execution_count": 7,
   "metadata": {},
   "outputs": [],
   "source": [
    "def regulaFalsi(f, x0, x1, eps=0.0001):\n",
    "    print(\"Finding root between -> \", x0, x1)\n",
    "    y0 = f(x0)\n",
    "    y1 = f(x1)\n",
    "    \n",
    "    if y0*y1 >= 0:\n",
    "        return \"Bracket is not valid\"\n",
    "     \n",
    "    x2 = x0 * y1/(y1 - y0) + x1 * y0/(y0 - y1)\n",
    "    y2 = f(x2)\n",
    "    \n",
    "    if abs(y2) < eps:\n",
    "        return x2\n",
    "    else:\n",
    "        if y2 * y0 < 0:\n",
    "            return regulaFalsi(f, x0, x2, eps)\n",
    "        elif y2 * y1 < 0:\n",
    "            return regulaFalsi(f, x2, x1, eps)"
   ]
  },
  {
   "cell_type": "code",
   "execution_count": 8,
   "metadata": {},
   "outputs": [],
   "source": [
    "def m(x):\n",
    "    return x**9 - 9*x**8 + 36*x**7 - 84*x**6 + 126*x**5 - 126*x**4 + 84*x**3 - 36*x**2 + 9*x - 1"
   ]
  },
  {
   "cell_type": "code",
   "execution_count": 9,
   "metadata": {},
   "outputs": [
    {
     "name": "stdout",
     "output_type": "stream",
     "text": [
      "Finding root between ->  0.6 and 2.1\n"
     ]
    },
    {
     "data": {
      "text/plain": [
       "1.35"
      ]
     },
     "execution_count": 9,
     "metadata": {},
     "output_type": "execute_result"
    }
   ],
   "source": [
    "bisection(m,0.6,2.1,0.0001)"
   ]
  },
  {
   "cell_type": "code",
   "execution_count": 10,
   "metadata": {},
   "outputs": [
    {
     "data": {
      "text/plain": [
       "7.881563876743769e-05"
      ]
     },
     "execution_count": 10,
     "metadata": {},
     "output_type": "execute_result"
    }
   ],
   "source": [
    "m(1.35)"
   ]
  },
  {
   "cell_type": "code",
   "execution_count": null,
   "metadata": {
    "scrolled": false
   },
   "outputs": [],
   "source": [
    "regulaFalsi(m,0.6,2.1,0.0001)"
   ]
  },
  {
   "cell_type": "code",
   "execution_count": 12,
   "metadata": {},
   "outputs": [
    {
     "data": {
      "text/plain": [
       "-9.990278793647889e-05"
      ]
     },
     "execution_count": 12,
     "metadata": {},
     "output_type": "execute_result"
    }
   ],
   "source": [
    "m(0.6406574684033532)"
   ]
  },
  {
   "cell_type": "markdown",
   "metadata": {},
   "source": [
    "## Non-Bracketing Methods"
   ]
  },
  {
   "cell_type": "markdown",
   "metadata": {},
   "source": [
    "### Secant\n",
    "Secant method is similar to regula falsi except for the fact here function value for initial \n",
    "two guesses need not be of opposit sign. In this method recent two guesses are used to find the next guess using linear interpolation. Similar to regula,  \n",
    "$$x_2 = \\frac{y_1}{y_1-y_0}x_0 + \\frac{y_0}{y_0-y_1}x_1$$  \n",
    "\n",
    "$$x_2 = \\frac{y_1 x_0 - y_0 x_1}{y_1-y_0} $$  \n",
    "\n",
    "$$x_2 = \\frac{y_1 x_0 - x_1 y_1 + x_1 y_1 + - y_0 x_1}{y_1-y_0} $$  \n",
    "\n",
    "$$ = x_1 - y_1 \\frac{x_1 - x_0}{y_1-y_0}$$  \n",
    "\n",
    "By this formula we get the new estimate using last two estimates, this process is repeated till convergence.\n",
    "\n",
    "By dropping the necessity of bracketing the root, rate of convergence is improved at the risk that in some cases iteration may not converge at all."
   ]
  },
  {
   "cell_type": "code",
   "execution_count": 13,
   "metadata": {},
   "outputs": [],
   "source": [
    "def secant(f, x0, x1, eps = 0.00001):   \n",
    "    f_x0 = f(x0)\n",
    "    f_x1 = f(x1) \n",
    "    if abs(f_x0) < eps:\n",
    "        return x0\n",
    "    \n",
    "    while(abs(f_x1) > eps):\n",
    "        print('Current guess -> ', x1)\n",
    "\n",
    "        df_x1 = (f_x1 - f_x0) / (x1 - x0)\n",
    "        x2 = x1 - (f_x1 / df_x1)\n",
    "        \n",
    "        if abs(x1-x2) < eps:\n",
    "            break\n",
    "        else:\n",
    "            x0, x1 = x1,x2\n",
    "            f_x0, f_x1= f(x0), f(x1)\n",
    "            \n",
    "    return(x1)"
   ]
  },
  {
   "cell_type": "code",
   "execution_count": 14,
   "metadata": {},
   "outputs": [],
   "source": [
    "def k(x):\n",
    "    return x**2-5\n",
    "def dk(x):\n",
    "    return 2*x\n",
    "def d2k(x):\n",
    "    return 2"
   ]
  },
  {
   "cell_type": "code",
   "execution_count": 15,
   "metadata": {
    "scrolled": true
   },
   "outputs": [
    {
     "name": "stdout",
     "output_type": "stream",
     "text": [
      "Current guess ->  6\n",
      "Current guess ->  3.1818181818181817\n",
      "Current guess ->  2.6237623762376234\n",
      "Current guess ->  2.2992248062015506\n",
      "Current guess ->  2.241041695249261\n",
      "Current guess ->  2.236137163799716\n"
     ]
    },
    {
     "data": {
      "text/plain": [
       "2.236068054359156"
      ]
     },
     "execution_count": 15,
     "metadata": {},
     "output_type": "execute_result"
    }
   ],
   "source": [
    "secant(k, 5, 6)"
   ]
  },
  {
   "cell_type": "markdown",
   "metadata": {},
   "source": [
    "### Newton Raphson\n",
    "In the secant method we use recent two estimates to approximate the function by a interpolating line then use the root of that line as next estimate. If two points in secant method tend to coincide the line we get will be a tangent, and that is Newton-Raphson method, where successive estimates are improved using the formula,  \n",
    "  \n",
    "$$x_{i+1} = x_i - \\frac{f(x_i)}{f'(x_i)}$$\n"
   ]
  },
  {
   "cell_type": "markdown",
   "metadata": {},
   "source": [
    "#### Derivation A: Slope Point form of the line  \n",
    "We will be approximating the function using the tangent.  \n",
    "Say $x_i$ is initial guess or most recent estimate,  \n",
    "Value of function at this point will be $f(x_i)$,  \n",
    "So we have point $(x_i, f(x_i)$ on the curve and slope of tangent at this point will be drivative of function at the same point say $f'(x_i)$.  \n",
    "Slope point form equation of line for slope $m$ and point $(x_1,y_1)$ is given by,  \n",
    "$$y-y_1 = m (x-x_1)$$   \n",
    "\n",
    "$$y-f(x_i) = f'(x_i) (x-x_i)$$   \n",
    "\n",
    "Now we want the root of this line, that is, $x_{i+1}$ where $y$ is zero, \n",
    "\n",
    "$$0-f(x_i) = f'(x_i) (x_{i+1}-x_i)$$   \n",
    "\n",
    "$$x_{i+1} = x_i - \\frac{f(x_i)}{f'(x_i)}$$\n"
   ]
  },
  {
   "cell_type": "markdown",
   "metadata": {},
   "source": [
    "#### Derivation B: Taylor Series Expansion\n",
    "Taylor series expansion for $f(x)$,\n",
    "$$f(x) = f(x_0) + f'(x_0)(x-x_0) + \\frac{f''(x_0)(x-x_0)^2}{2!} + \\frac{f'''(x_0)(x-x_0)^3}{3!} + ...$$  \n",
    "We truncate this after second term, and approximate the function using first two terms,\n",
    "\n",
    "$$f(x) \\approx g(x) = f(x_0) + f'(x_0)(x-x_0)$$  \n",
    "\n",
    "We will use the root of $g(x)$ as an estimate for the root of $f(x)$,  \n",
    "let $x_i$ be the initial guess or the latest estimate, then the next estimate $x_{i+1}$ will be the root of $g(x)$,\n",
    "\n",
    "$$0 = f(x_i) + f'(x_i)(x_{i+1}-x_i)$$  \n",
    "$$x_{i+1} = x_i - \\frac{f(x_i)}{f'(x_i)}$$"
   ]
  },
  {
   "cell_type": "code",
   "execution_count": 16,
   "metadata": {},
   "outputs": [],
   "source": [
    "def newtonRaphson(func, dfunc, a, eps=0.00001):\n",
    "    print(\"Current guess -> \", a)\n",
    "    f_a = func(a)\n",
    "    if abs(f_a) < eps:\n",
    "        return a\n",
    "    else:\n",
    "        df_a = dfunc(a)\n",
    "        b = a - (f_a/df_a)\n",
    "        return newtonRaphson(func, dfunc, b, eps)"
   ]
  },
  {
   "cell_type": "code",
   "execution_count": 17,
   "metadata": {},
   "outputs": [],
   "source": [
    "def NewtonRaphson(f, df, x0, eps = 0.00001):\n",
    "    while(abs(f(x0)) > eps):\n",
    "        print('Current guess -> ', xo)\n",
    "        x = x0 - (f(x0)/df(x0))\n",
    "        if abs(x-x0) < eps:\n",
    "            break\n",
    "        else:\n",
    "            x0 = x\n",
    "    return(x0)"
   ]
  },
  {
   "cell_type": "code",
   "execution_count": 18,
   "metadata": {},
   "outputs": [
    {
     "name": "stdout",
     "output_type": "stream",
     "text": [
      "Current guess ->  4\n",
      "Current guess ->  2.625\n",
      "Current guess ->  2.2648809523809526\n",
      "Current guess ->  2.2362512514861397\n",
      "Current guess ->  2.2360679850099823\n"
     ]
    },
    {
     "data": {
      "text/plain": [
       "2.2360679850099823"
      ]
     },
     "execution_count": 18,
     "metadata": {},
     "output_type": "execute_result"
    }
   ],
   "source": [
    "newtonRaphson(k, dk, 4)"
   ]
  },
  {
   "cell_type": "code",
   "execution_count": 19,
   "metadata": {},
   "outputs": [
    {
     "data": {
      "text/plain": [
       "2.236067978533095"
      ]
     },
     "execution_count": 19,
     "metadata": {},
     "output_type": "execute_result"
    }
   ],
   "source": [
    "NewtonRaphson(k, dk, 2.236067978533095)"
   ]
  },
  {
   "cell_type": "markdown",
   "metadata": {},
   "source": [
    "### Chebyshev\n",
    "This method is similar to Newton-Raphson the difference being three instead of two terms in Taylor expansion are considered.  \n",
    "$$f(x) \\approx g(x) = f(x_0) + f'(x_0)(x-x_0) + \\frac{f''(x_0)(x-x_0)^2}{2!}$$  \n",
    "\n",
    "For $x_0 = x_i, x = x_{i+1}$ and $(x_{i+1}-x_i)= h$ above equation becomes, \n",
    "$$ g(x_{i+1}) = f(x_i) + f'(x_i)h + \\frac{f''(x_i)h^2}{2!}$$  \n",
    "Here, value of $h$ in third term is approximated using first two terms of Taylor expansion,  \n",
    "\n",
    "$$g(x_{i+1}) = f(x_i) + f'(x_i)h$$  \n",
    "$$ h = \\frac{g(x_{i+1}) - f(x_i)}{f'(x_i)}$$ above equation becomes,\n",
    "\n",
    "$$ g(x_{i+1}) = f(x_i) + f'(x_i)h + \\frac{f''(x_i)}{2!}\\left[\\frac{g(x_{i+1}) - f(x_i)}{f'(x_i)}\\right]^2$$  \n",
    "Now, in Chebyshev method root of this equation is used as the next estimate,  \n",
    "Which is obtained by putting $g(x_{i+1}) = 0$\n",
    "\n",
    "$$ 0 = f(x_i) + f'(x_i)h + \\frac{f''(x_i)}{2!}\\left[\\frac{0 - f(x_i)}{f'(x_i)}\\right]^2$$  \n",
    "\n",
    "$$ f'(x_i)h = - f(x_i)  - \\frac{f''(x_i)f(x_i)^2}{2 f'(x_i)^2}$$  \n",
    "\n",
    "$$ x_{i+1}-x_i = - \\frac{f(x_i)}{f'(x_i)}  - \\frac{f''(x_i) f(x_i) ^2}{2 f'(x_i)^3}$$  \n",
    "\n",
    "$$ x_{i+1} = x_i - \\frac{f(x_i)}{f'(x_i)}  - \\frac{f''(x_i) f(x_i)^2}{2 f'(x_i)^3}$$  "
   ]
  },
  {
   "cell_type": "code",
   "execution_count": 20,
   "metadata": {},
   "outputs": [],
   "source": [
    "def chebyshev(f, df, d2f, x0, eps = 0.00001):\n",
    "    while(abs(f(x0)) > eps):\n",
    "        print('Current guess -> ', x0)\n",
    "        \n",
    "        f_x = f(x0)\n",
    "        df_x = df(x0)\n",
    "        \n",
    "        x1 = x0 - (f_x/df_x) - (f_x)**2 * d2f(x0) / ((df_x)**3 * 2)\n",
    "        \n",
    "        if abs(x1-x0) < eps:\n",
    "            break\n",
    "        else:\n",
    "            x0 = x1\n",
    "    print(x1)"
   ]
  },
  {
   "cell_type": "code",
   "execution_count": 21,
   "metadata": {},
   "outputs": [
    {
     "name": "stdout",
     "output_type": "stream",
     "text": [
      "Current guess ->  500\n",
      "Current guess ->  187.507499975\n",
      "Current guess ->  70.3353112166425\n",
      "Current guess ->  26.429048761350504\n",
      "Current guess ->  10.052613334788889\n",
      "Current guess ->  4.13969113725895\n",
      "Current guess ->  2.4141988300929302\n",
      "Current guess ->  2.2365439211065983\n",
      "2.2360679775105656\n"
     ]
    }
   ],
   "source": [
    "chebyshev(k, dk, d2k, 500)"
   ]
  },
  {
   "cell_type": "markdown",
   "metadata": {},
   "source": [
    "## Hybrid Methods"
   ]
  },
  {
   "cell_type": "markdown",
   "metadata": {},
   "source": [
    "### Muller's Method\n",
    "Muller's method uses parabolic interpolation to approximate given function. The root is approximated by the root of interpolating quadratic. The quadratic equation has two roots, and at any given step we choose the root which is nearest to the current best estimate. \n",
    "Quadratic equation with real coefficients can have complex roots. Hence this method can give complex roots, even when starting values are all real. At the same time, we may be forced to use complex arithmatic, even when we are interested in real roots only. For these reasons mullar method is not advisable for finding real roots."
   ]
  },
  {
   "cell_type": "markdown",
   "metadata": {},
   "source": [
    "In Mullar's method, we start with three points $x_0$, $x_1$ and $x_2$, approximate the function by a parabola using quadratic interpolation, say g(s) whose root $x_3$ will be considered as new guess for the root  "
   ]
  },
  {
   "cell_type": "code",
   "execution_count": 22,
   "metadata": {},
   "outputs": [],
   "source": [
    "def muller(f, x0, x1, x2, eps = 0.00001):   \n",
    "    f_x0, f_x1, f_x2 = f(x0), f(x1), f(x2)\n",
    "\n",
    "    if abs(f_x0) < eps:\n",
    "        return x0\n",
    "    if abs(f_x1) < eps:\n",
    "        return x1\n",
    "    \n",
    "    while(abs(f_x2) > eps):\n",
    "        print('Current guess -> ', x2)\n",
    "        \n",
    "        x3 = qInterpolFor0(x0, x1, x2, f_x0, f_x1, f_x2)\n",
    "        \n",
    "        if abs(x2 - x3) < eps:\n",
    "            break\n",
    "        else:\n",
    "            x0, x1, x2 = x1, x2, x3\n",
    "            f_x0, f_x1, f_x2= f(x0), f(x1), f(x2)\n",
    "            \n",
    "    return(x2)"
   ]
  },
  {
   "cell_type": "code",
   "execution_count": 23,
   "metadata": {},
   "outputs": [],
   "source": [
    "def qInterpolFor0(x0,x1,x2,y0,y1,y2):\n",
    "    e0 = (y0-y2)/(x0-x2)\n",
    "    e1 = (y1-y2)/(x1-x2)\n",
    "    A0 = (e0-e1)/(x0-x1)\n",
    "    A1 = ((x1-x2)*e0 - (x0-x2)*e1)/(x1-x0)\n",
    "    A2 = y2\n",
    "    \n",
    "    x3 = x2 - (2*A2)/(A1 + np.sign(A1)*np.sqrt(A1**2 - 4*A0*A2)) \n",
    "    return x3"
   ]
  },
  {
   "cell_type": "code",
   "execution_count": 24,
   "metadata": {},
   "outputs": [],
   "source": [
    "def muf(x):\n",
    "    return x**3 + 2*x**2 + 10*x - 20"
   ]
  },
  {
   "cell_type": "code",
   "execution_count": 25,
   "metadata": {},
   "outputs": [
    {
     "name": "stdout",
     "output_type": "stream",
     "text": [
      "Current guess ->  0\n",
      "Current guess ->  -0.004007526821397579\n",
      "Current guess ->  0.5298181847944732\n",
      "Current guess ->  1.4607412263223627\n",
      "Current guess ->  1.3635471136182822\n",
      "Current guess ->  1.3687889391793606\n"
     ]
    },
    {
     "data": {
      "text/plain": [
       "1.3688081073819138"
      ]
     },
     "execution_count": 25,
     "metadata": {},
     "output_type": "execute_result"
    }
   ],
   "source": [
    "muller(muf, 100, 50, 0, 10**-8)"
   ]
  },
  {
   "cell_type": "code",
   "execution_count": 26,
   "metadata": {},
   "outputs": [
    {
     "data": {
      "text/plain": [
       "-1.4963268384349249e-06"
      ]
     },
     "execution_count": 26,
     "metadata": {},
     "output_type": "execute_result"
    }
   ],
   "source": [
    "muf(1.3688080368924294)"
   ]
  },
  {
   "cell_type": "code",
   "execution_count": 27,
   "metadata": {},
   "outputs": [
    {
     "name": "stdout",
     "output_type": "stream",
     "text": [
      "Current guess ->  0\n",
      "Current guess ->  0.0019588638589618022\n",
      "Current guess ->  1.9992159944795656\n",
      "Current guess ->  1.1117880360503627\n",
      "Current guess ->  1.3244663912208003\n",
      "Current guess ->  1.372229754109059\n",
      "Current guess ->  1.3687639662033249\n",
      "Current guess ->  1.368808064121227\n"
     ]
    },
    {
     "data": {
      "text/plain": [
       "1.368808107821931"
      ]
     },
     "execution_count": 27,
     "metadata": {},
     "output_type": "execute_result"
    }
   ],
   "source": [
    "secant(muf, 100,0,10**-8)"
   ]
  },
  {
   "cell_type": "markdown",
   "metadata": {},
   "source": [
    "##### Reference: H.M. Antia, Numerical Methods for Scientists and Engineers"
   ]
  }
 ],
 "metadata": {
  "kernelspec": {
   "display_name": "Python 3",
   "language": "python",
   "name": "python3"
  },
  "language_info": {
   "codemirror_mode": {
    "name": "ipython",
    "version": 3
   },
   "file_extension": ".py",
   "mimetype": "text/x-python",
   "name": "python",
   "nbconvert_exporter": "python",
   "pygments_lexer": "ipython3",
   "version": "3.7.6"
  }
 },
 "nbformat": 4,
 "nbformat_minor": 2
}
